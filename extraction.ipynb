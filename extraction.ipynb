{
 "cells": [
  {
   "cell_type": "code",
   "execution_count": 1,
   "metadata": {
    "collapsed": true
   },
   "outputs": [],
   "source": [
    "\n",
    "import SimpleITK as sitk\n",
    "import os\n",
    "import numpy as np\n",
    "import nibabel as nib\n",
    "import matplotlib.pyplot as plt"
   ]
  },
  {
   "cell_type": "code",
   "execution_count": 3,
   "outputs": [],
   "source": [
    "data_path=r'F:\\Download\\1'\n",
    "fileNum='04595852'\n",
    "fileName=os.path.join(data_path,fileNum+'.nrrd')\n",
    "fileNameMask=os.path.join(data_path,fileNum+'_mask.nrrd')\n",
    "extraction_file=f'F:\\Download\\extraction'"
   ],
   "metadata": {
    "collapsed": false,
    "pycharm": {
     "name": "#%%\n"
    }
   }
  },
  {
   "cell_type": "code",
   "execution_count": 58,
   "outputs": [],
   "source": [
    "'''\n",
    "读取origin文件和mask文件\n",
    "'''\n",
    "r=8\n",
    "img = sitk.ReadImage(fileName)\n",
    "mask= sitk.ReadImage(fileNameMask)\n"
   ],
   "metadata": {
    "collapsed": false,
    "pycharm": {
     "name": "#%%\n"
    }
   }
  },
  {
   "cell_type": "code",
   "execution_count": 56,
   "outputs": [
    {
     "name": "stdout",
     "output_type": "stream",
     "text": [
      "[174, 175, 176, 177, 178]\n",
      "[298, 299, 300, 301, 302, 303, 304, 305, 306, 307, 308, 309, 310]\n",
      "[154, 155, 156, 157, 158, 159, 160, 161, 162, 163, 164, 165]\n"
     ]
    },
    {
     "data": {
      "text/plain": "[[174, 175, 176, 177, 178],\n [298, 299, 300, 301, 302, 303, 304, 305, 306, 307, 308, 309, 310],\n [154, 155, 156, 157, 158, 159, 160, 161, 162, 163, 164, 165]]"
     },
     "execution_count": 56,
     "metadata": {},
     "output_type": "execute_result"
    }
   ],
   "source": [
    "'''\n",
    "Test\n",
    "'''\n",
    "mask_arr=sitk.GetArrayFromImage(mask)\n",
    "\n",
    "def getnonzeros(data:np.ndarray):\n",
    "    nonIndex=[[],[],[]]\n",
    "    for i in range(0,3):\n",
    "        for j in range(0,data.shape[i]):\n",
    "            if i==0:\n",
    "                temp=np.sum(data[j,:,:]).squeeze()\n",
    "            elif i==1:\n",
    "                temp=np.sum(data[:,j,:]).squeeze()\n",
    "            elif i==2:\n",
    "                temp=np.sum(data[:,:,j]).squeeze()\n",
    "            if temp !=0:\n",
    "                nonIndex[i].append(j)\n",
    "    for list in nonIndex:\n",
    "        print(list)\n",
    "    return nonIndex\n",
    "getnonzeros(mask_arr)"
   ],
   "metadata": {
    "collapsed": false,
    "pycharm": {
     "name": "#%%\n"
    }
   }
  },
  {
   "cell_type": "code",
   "execution_count": 59,
   "outputs": [
    {
     "name": "stdout",
     "output_type": "stream",
     "text": [
      "Multiple labels and their centroids:\n",
      "(160, 304, 176)\n"
     ]
    }
   ],
   "source": [
    "# Get the centroid per label\n",
    "print('Multiple labels and their centroids:')\n",
    "label_shape_filter.Execute(mask)\n",
    "for label in range(1, label_shape_filter.GetNumberOfLabels()+1):\n",
    "    centor=img.TransformPhysicalPointToIndex(label_shape_filter.GetCentroid(label))\n",
    "    for i,c in enumerate(centor):\n",
    "        if i ==0:\n",
    "            tmp=img[c-r:c+r,:,:]\n",
    "        elif i==1:\n",
    "            tmp=img[:,c-r:c+r,:]\n",
    "        elif i==2:\n",
    "            tmp=img[:,:,c-r:c+r]\n",
    "        sitk.WriteImage(tmp,os.path.join(extraction_file,f\"img_{i}.nii.gz\"))\n",
    "    w,h,n=centor\n",
    "    print(centor)\n",
    "    tmp=img[w-r:w+r,h-r:h+r,n-r:n+r]\n",
    "    sitk.WriteImage(tmp,os.path.join(extraction_file,f\"img_3.nii.gz\"))\n",
    "\n"
   ],
   "metadata": {
    "collapsed": false,
    "pycharm": {
     "name": "#%%\n"
    }
   }
  },
  {
   "cell_type": "code",
   "execution_count": 17,
   "outputs": [
    {
     "name": "stdout",
     "output_type": "stream",
     "text": [
      "(512, 512, 257)\n",
      "1\n"
     ]
    }
   ],
   "source": [
    "print(img.GetSize())\n",
    "print(label_shape_filter.GetNumberOfLabels())"
   ],
   "metadata": {
    "collapsed": false,
    "pycharm": {
     "name": "#%%\n"
    }
   }
  },
  {
   "cell_type": "code",
   "execution_count": 13,
   "outputs": [
    {
     "name": "stdout",
     "output_type": "stream",
     "text": [
      "<class 'nibabel.nifti1.Nifti1Image'>\n",
      "data shape (512, 257)\n",
      "affine: \n",
      "[[ -0.71289098   0.           0.         182.5       ]\n",
      " [  0.          -1.25         0.         256.5       ]\n",
      " [  0.           0.           1.           0.        ]\n",
      " [  0.           0.           0.           1.        ]]\n",
      "metadata:\n",
      "<class 'nibabel.nifti1.Nifti1Header'> object, endian='<'\n",
      "sizeof_hdr      : 348\n",
      "data_type       : b''\n",
      "db_name         : b''\n",
      "extents         : 0\n",
      "session_error   : 0\n",
      "regular         : b'r'\n",
      "dim_info        : 0\n",
      "dim             : [  2 512 257   1   1   1   1   1]\n",
      "intent_p1       : 0.0\n",
      "intent_p2       : 0.0\n",
      "intent_p3       : 0.0\n",
      "intent_code     : none\n",
      "datatype        : int32\n",
      "bitpix          : 32\n",
      "slice_start     : 0\n",
      "pixdim          : [1.       0.712891 1.25     1.       0.       0.       0.       0.      ]\n",
      "vox_offset      : 0.0\n",
      "scl_slope       : nan\n",
      "scl_inter       : nan\n",
      "slice_end       : 0\n",
      "slice_code      : unknown\n",
      "xyzt_units      : 2\n",
      "cal_max         : 0.0\n",
      "cal_min         : 0.0\n",
      "slice_duration  : 0.0\n",
      "toffset         : 0.0\n",
      "glmax           : 0\n",
      "glmin           : 0\n",
      "descrip         : b''\n",
      "aux_file        : b''\n",
      "qform_code      : scanner\n",
      "sform_code      : scanner\n",
      "quatern_b       : 0.0\n",
      "quatern_c       : 0.0\n",
      "quatern_d       : 1.0\n",
      "qoffset_x       : 182.5\n",
      "qoffset_y       : 256.5\n",
      "qoffset_z       : 0.0\n",
      "srow_x          : [ -0.712891   0.         0.       182.5     ]\n",
      "srow_y          : [  0.    -1.25   0.   256.5 ]\n",
      "srow_z          : [0. 0. 1. 0.]\n",
      "intent_name     : b''\n",
      "magic           : b'n+1'\n",
      "b''\n",
      "(512, 257)\n"
     ]
    },
    {
     "ename": "ValueError",
     "evalue": "not enough values to unpack (expected 3, got 2)",
     "output_type": "error",
     "traceback": [
      "\u001B[1;31m---------------------------------------------------------------------------\u001B[0m",
      "\u001B[1;31mValueError\u001B[0m                                Traceback (most recent call last)",
      "Input \u001B[1;32mIn [13]\u001B[0m, in \u001B[0;36m<cell line: 11>\u001B[1;34m()\u001B[0m\n\u001B[0;32m      9\u001B[0m \u001B[38;5;28mprint\u001B[39m(img\u001B[38;5;241m.\u001B[39mheader[\u001B[38;5;124m'\u001B[39m\u001B[38;5;124mdb_name\u001B[39m\u001B[38;5;124m'\u001B[39m]) \u001B[38;5;66;03m#输出nii的头文件\u001B[39;00m\n\u001B[0;32m     10\u001B[0m \u001B[38;5;28mprint\u001B[39m(img\u001B[38;5;241m.\u001B[39mshape)\n\u001B[1;32m---> 11\u001B[0m width, height, queue \u001B[38;5;241m=\u001B[39m img\u001B[38;5;241m.\u001B[39mdataobj\u001B[38;5;241m.\u001B[39mshape\n\u001B[0;32m     12\u001B[0m OrthoSlicer3D(img\u001B[38;5;241m.\u001B[39mdataobj)\u001B[38;5;241m.\u001B[39mshow()\n\u001B[0;32m     14\u001B[0m num \u001B[38;5;241m=\u001B[39m \u001B[38;5;241m1\u001B[39m\n",
      "\u001B[1;31mValueError\u001B[0m: not enough values to unpack (expected 3, got 2)"
     ]
    }
   ],
   "source": [
    "import matplotlib\n",
    "from matplotlib import pylab as plt\n",
    "import nibabel as nib\n",
    "from nibabel.viewers import OrthoSlicer3D\n",
    "#file = fileName #你的nii或者nii.gz文件路径\n",
    "#img = nib.load(file)\n",
    "\n",
    "print(img)\n",
    "print(img.header['db_name']) #输出nii的头文件\n",
    "width, height, queue = img.dataobj.shape\n",
    "OrthoSlicer3D(img.dataobj).show()\n",
    "\n",
    "num = 1\n",
    "for i in range(0, queue, 10):\n",
    " img_arr = img.dataobj[:,:,i]\n",
    " plt.subplot(5,4,num)\n",
    " plt.imshow(img_arr, cmap='gray')\n",
    " num += 1\n",
    "\n",
    "plt.show()"
   ],
   "metadata": {
    "collapsed": false,
    "pycharm": {
     "name": "#%%\n"
    }
   }
  },
  {
   "cell_type": "code",
   "execution_count": 19,
   "outputs": [
    {
     "name": "stderr",
     "output_type": "stream",
     "text": [
      "C:\\Users\\Iroin\\AppData\\Local\\Temp\\ipykernel_12116\\3488616981.py:7: DeprecationWarning: get_data() is deprecated in favor of get_fdata(), which has a more predictable return type. To obtain get_data() behavior going forward, use numpy.asanyarray(img.dataobj).\n",
      "\n",
      "* deprecated from version: 3.0\n",
      "* Will raise <class 'nibabel.deprecator.ExpiredDeprecationError'> as of version: 5.0\n",
      "  img_arr = nib.load(os.path.join(extraction_file,f\"img_{i}.nii.gz\")).get_data()\n"
     ]
    },
    {
     "data": {
      "text/plain": "<Figure size 432x288 with 18 Axes>",
      "image/png": "[encoded data removed]"
     },
     "metadata": {
      "needs_background": "light"
     },
     "output_type": "display_data"
    }
   ],
   "source": [
    "%matplotlib inline\n",
    "\n",
    "\n",
    "plt.figure()\n",
    "for i in range(0,3):\n",
    "    img_arr = nib.load(os.path.join(extraction_file,f\"img_{i}.nii.gz\")).get_data()\n",
    "    for j in range(1,r*2+1):\n",
    "        if r==0:\n",
    "            r=0.5\n",
    "        plt.subplot(3,r*2,i*r*2+j)\n",
    "        if i==0:\n",
    "            plt.imshow(img_arr[j-1,:,:])\n",
    "        elif i==1:\n",
    "            plt.imshow(img_arr[:,j-1,:])\n",
    "        elif i==2:\n",
    "            plt.imshow(img_arr[:,:,j-1])\n",
    "plt.show()\n"
   ],
   "metadata": {
    "collapsed": false,
    "pycharm": {
     "name": "#%%\n"
    }
   }
  },
  {
   "cell_type": "code",
   "execution_count": 3,
   "outputs": [],
   "source": [
    "def showImg(file_name,axis=2):\n",
    "    img = nib.load(file_name)\n",
    "    img_arr = img.get_data()\n",
    "    plt.figure()\n",
    "    for i in range(0,img.shape[axis]):\n",
    "        c=int(img.shape[axis]/5)\n",
    "        if img.shape[axis]%5:\n",
    "            c+=1\n",
    "        plt.subplot(c,5,i+1)\n",
    "        if axis==2:\n",
    "            plt.imshow(img_arr[:,:,i],cmap='gray')\n",
    "        elif axis==1:\n",
    "            plt.imshow(img_arr[:,i,:],cmap='gray')\n",
    "        elif axis==0:\n",
    "            plt.imshow(img_arr[i,:,:],cmap='gray')\n",
    "    plt.show()"
   ],
   "metadata": {
    "collapsed": false,
    "pycharm": {
     "name": "#%%\n"
    }
   }
  },
  {
   "cell_type": "code",
   "execution_count": 4,
   "outputs": [
    {
     "ename": "NameError",
     "evalue": "name 'showImg' is not defined",
     "output_type": "error",
     "traceback": [
      "\u001B[1;31m---------------------------------------------------------------------------\u001B[0m",
      "\u001B[1;31mNameError\u001B[0m                                 Traceback (most recent call last)",
      "Input \u001B[1;32mIn [4]\u001B[0m, in \u001B[0;36m<cell line: 2>\u001B[1;34m()\u001B[0m\n\u001B[0;32m      1\u001B[0m get_ipython()\u001B[38;5;241m.\u001B[39mrun_line_magic(\u001B[38;5;124m'\u001B[39m\u001B[38;5;124mmatplotlib\u001B[39m\u001B[38;5;124m'\u001B[39m, \u001B[38;5;124m'\u001B[39m\u001B[38;5;124minline\u001B[39m\u001B[38;5;124m'\u001B[39m)\n\u001B[1;32m----> 2\u001B[0m \u001B[43mshowImg\u001B[49m(os\u001B[38;5;241m.\u001B[39mpath\u001B[38;5;241m.\u001B[39mjoin(extraction_file,\u001B[38;5;124mf\u001B[39m\u001B[38;5;124m\"\u001B[39m\u001B[38;5;124mimg_3.nii.gz\u001B[39m\u001B[38;5;124m\"\u001B[39m),\u001B[38;5;241m2\u001B[39m)\n",
      "\u001B[1;31mNameError\u001B[0m: name 'showImg' is not defined"
     ]
    }
   ],
   "source": [
    "%matplotlib inline\n",
    "showImg(os.path.join(extraction_file,f\"img_3.nii.gz\"),2)\n"
   ],
   "metadata": {
    "collapsed": false,
    "pycharm": {
     "name": "#%%\n"
    }
   }
  },
  {
   "cell_type": "code",
   "execution_count": 5,
   "outputs": [
    {
     "name": "stdout",
     "output_type": "stream",
     "text": [
      "[[-604 -316 -248 -492 -781 -891 -924 -908 -872 -888 -878 -860 -890 -912\n",
      "  -894 -893]\n",
      " [-272 -161 -356 -710 -873 -899 -889 -876 -877 -876 -857 -853 -847 -871\n",
      "  -885 -881]\n",
      " [-191 -226 -599 -883 -920 -895 -875 -879 -885 -869 -860 -866 -790 -756\n",
      "  -835 -872]\n",
      " [-148 -439 -824 -931 -925 -902 -902 -913 -895 -892 -906 -907 -791 -605\n",
      "  -695 -851]\n",
      " [-299 -701 -907 -905 -909 -913 -924 -923 -892 -891 -918 -921 -846 -636\n",
      "  -630 -771]\n",
      " [-522 -922 -945 -909 -915 -912 -909 -916 -901 -882 -898 -900 -870 -786\n",
      "  -697 -630]\n",
      " [-628 -932 -923 -901 -911 -886 -876 -899 -897 -895 -905 -906 -889 -862\n",
      "  -802 -711]\n",
      " [-665 -873 -885 -884 -881 -852 -833 -845 -846 -870 -886 -892 -912 -894\n",
      "  -866 -868]\n",
      " [-773 -885 -890 -900 -895 -868 -847 -821 -817 -833 -844 -868 -908 -915\n",
      "  -885 -878]\n",
      " [-866 -922 -916 -900 -907 -902 -907 -891 -855 -827 -851 -875 -901 -917\n",
      "  -893 -870]\n",
      " [-866 -890 -900 -875 -886 -889 -888 -902 -876 -849 -871 -878 -895 -915\n",
      "  -900 -868]\n",
      " [-871 -865 -875 -859 -864 -886 -871 -886 -890 -873 -887 -895 -890 -922\n",
      "  -928 -878]\n",
      " [-879 -878 -875 -823 -825 -889 -884 -893 -919 -882 -890 -907 -887 -921\n",
      "  -943 -884]\n",
      " [-889 -883 -880 -837 -859 -903 -893 -887 -904 -900 -910 -900 -875 -888\n",
      "  -914 -911]\n",
      " [-891 -878 -876 -870 -906 -908 -889 -857 -837 -899 -940 -898 -876 -871\n",
      "  -892 -925]\n",
      " [-870 -862 -887 -887 -904 -904 -875 -866 -853 -887 -929 -903 -884 -881\n",
      "  -885 -911]]\n"
     ]
    },
    {
     "name": "stderr",
     "output_type": "stream",
     "text": [
      "C:\\Users\\Iroin\\AppData\\Local\\Temp\\ipykernel_12544\\1027295742.py:2: DeprecationWarning: get_data() is deprecated in favor of get_fdata(), which has a more predictable return type. To obtain get_data() behavior going forward, use numpy.asanyarray(img.dataobj).\n",
      "\n",
      "* deprecated from version: 3.0\n",
      "* Will raise <class 'nibabel.deprecator.ExpiredDeprecationError'> as of version: 5.0\n",
      "  img_arr = img.get_data()\n"
     ]
    }
   ],
   "source": [
    "\n",
    "img = nib.load(os.path.join(extraction_file,f\"img_3.nii.gz\"))\n",
    "img_arr = img.get_data()\n",
    "print(img_arr[:,:,0])"
   ],
   "metadata": {
    "collapsed": false,
    "pycharm": {
     "name": "#%%\n"
    }
   }
  },
  {
   "cell_type": "code",
   "execution_count": 70,
   "outputs": [
    {
     "name": "stdout",
     "output_type": "stream",
     "text": [
      "(16, 16, 16)\n",
      "(16, 16, 16)\n"
     ]
    }
   ],
   "source": [
    "print(img.shape)\n",
    "print(img_arr.shape)"
   ],
   "metadata": {
    "collapsed": false,
    "pycharm": {
     "name": "#%%\n"
    }
   }
  },
  {
   "cell_type": "code",
   "execution_count": null,
   "outputs": [],
   "source": [
    "'''\n",
    "    以下为批量处理\n",
    "'''"
   ],
   "metadata": {
    "collapsed": false,
    "pycharm": {
     "name": "#%%\n"
    }
   }
  },
  {
   "cell_type": "code",
   "execution_count": null,
   "outputs": [],
   "source": [
    "data_path=r'F:\\Download\\1'\n",
    "image_path=os.path.join(data_path,'image')\n",
    "csv_path=os.path.join(data_path,'results.xlsx')\n",
    "\n",
    "data=pd.read_excel(csv_path,usecols=[1,2])\n",
    "print(data)"
   ],
   "metadata": {
    "collapsed": false,
    "pycharm": {
     "name": "#%%\n"
    }
   }
  },
  {
   "cell_type": "code",
   "execution_count": null,
   "outputs": [],
   "source": [
    "for i in range(len(data)):\n",
    "    filename=str(data.iloc[i,0])[:-5]\n",
    "    filepath=os.path.join(data_path,filename+'.nrrd')\n",
    "    mask_file_path=os.path.join(data_path,filename+'_mask.nrrd')\n",
    "    type=(str(data.iloc[i,1]).strip())=='有'\n",
    "    if type:\n",
    "        type=1\n",
    "    else:\n",
    "        type=0\n",
    "    image_file=os.path.join(image_path,filename)\n",
    "    nrrd_data,_=nrrd.read(filepath)\n",
    "    mask_data,_=nrrd.read(mask_file_path)\n",
    "    nonIndex=getnonzeros(mask_data)\n",
    "    nrrd_data=zscore(nrrd_data)*255\n",
    "    nrrd_data=nrrd_data.astype(int)\n",
    "    ROI_data=nrrd_data[nonIndex[0][0]:nonIndex[0][-1]+1,nonIndex[1][0]:nonIndex[1][-1]+1,nonIndex[2][0]:nonIndex[2][-1]+1]\n",
    "    for i in range(0,3):\n",
    "        target_file=os.path.join(image_path,filename,f'{i}')\n",
    "        if not os.path.exists(target_file):\n",
    "            os.makedirs(target_file)\n",
    "        for j in range(ROI_data.shape[i]):\n",
    "            if i==0:\n",
    "               img=Image.fromarray(ROI_data[j,:,:])\n",
    "            elif i==1:\n",
    "                img=Image.fromarray(ROI_data[:,j,:])\n",
    "            elif i==2:\n",
    "                img=Image.fromarray(ROI_data[:,:,j])\n",
    "            img.convert('L').save(os.path.join(target_file,f'{j}_{type}.png'))\n",
    "    print(filename,':complete!')"
   ],
   "metadata": {
    "collapsed": false,
    "pycharm": {
     "name": "#%%\n"
    }
   }
  },
  {
   "cell_type": "code",
   "execution_count": null,
   "outputs": [],
   "source": [
    "for i in range(len(data)):\n",
    "    filename=str(data.iloc[i,0])[:-5]\n",
    "    filepath=os.path.join(data_path,filename+'.nrrd')\n",
    "    mask_file_path=os.path.join(data_path,filename+'_mask.nrrd')\n",
    "    type=(str(data.iloc[i,1]).strip())=='有'\n",
    "    if type:\n",
    "        type=1\n",
    "    else:\n",
    "        type=0\n",
    "    nrrd_img=sitk.ReadImage(filepath)\n",
    "    nrrd_arr=sitk.GetArrayFromImage(nrrd_img)\n",
    "    mask_img=sitk.ReadImage(mask_file_path)\n",
    "    mask_arr=sitk.GetArrayFromImage(mask_img)\n",
    "    onIndex=getnonzeros(mask_data)\n",
    "    mask=sitk.ConnectedComponent(mask)\n",
    "    label_shape_filter = sitk.LabelShapeStatisticsImageFilter()\n",
    "\n"
   ],
   "metadata": {
    "collapsed": false,
    "pycharm": {
     "name": "#%%\n"
    }
   }
  }
 ],
 "metadata": {
  "kernelspec": {
   "display_name": "Python 3",
   "language": "python",
   "name": "python3"
  },
  "language_info": {
   "codemirror_mode": {
    "name": "ipython",
    "version": 2
   },
   "file_extension": ".py",
   "mimetype": "text/x-python",
   "name": "python",
   "nbconvert_exporter": "python",
   "pygments_lexer": "ipython2",
   "version": "2.7.6"
  }
 },
 "nbformat": 4,
 "nbformat_minor": 0
}